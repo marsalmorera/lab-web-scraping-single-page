{
 "cells": [
  {
   "cell_type": "code",
   "execution_count": 1,
   "id": "5f80273e-7ef3-4407-842c-803fac73b92d",
   "metadata": {},
   "outputs": [],
   "source": [
    "import pandas as pd\n",
    "from bs4 import BeautifulSoup\n",
    "import requests\n",
    "import os \n",
    "import warnings\n",
    "warnings.filterwarnings('ignore')"
   ]
  },
  {
   "cell_type": "code",
   "execution_count": 3,
   "id": "3758d18b-39d5-470c-b807-dadc3c054818",
   "metadata": {},
   "outputs": [],
   "source": [
    "link = \"https://www.billboard.com/charts/hot-100\""
   ]
  },
  {
   "cell_type": "code",
   "execution_count": 5,
   "id": "e3da77f7-2ca5-4cbc-b739-1cf5e81f1874",
   "metadata": {},
   "outputs": [
    {
     "data": {
      "text/plain": [
       "200"
      ]
     },
     "execution_count": 5,
     "metadata": {},
     "output_type": "execute_result"
    }
   ],
   "source": [
    "response = requests.get(link)\n",
    "response.status_code"
   ]
  },
  {
   "cell_type": "code",
   "execution_count": 7,
   "id": "e04e236b-8ae0-4b39-a96a-bf9e8a2e1ca2",
   "metadata": {},
   "outputs": [],
   "source": [
    "# Parse the element\n",
    "soup = BeautifulSoup(response.text, 'html.parser')"
   ]
  },
  {
   "cell_type": "code",
   "execution_count": 9,
   "id": "0b5cdd6c-3ecd-45a4-9bd4-6288f4166e44",
   "metadata": {},
   "outputs": [
    {
     "data": {
      "text/plain": [
       "bs4.BeautifulSoup"
      ]
     },
     "execution_count": 9,
     "metadata": {},
     "output_type": "execute_result"
    }
   ],
   "source": [
    "type(soup)"
   ]
  },
  {
   "cell_type": "code",
   "execution_count": null,
   "id": "4f921570-9996-4740-9b33-d887b80492b0",
   "metadata": {},
   "outputs": [],
   "source": [
    "# Just for checking.\n",
    "# print(soup.prettify())"
   ]
  },
  {
   "cell_type": "code",
   "execution_count": 11,
   "id": "a50e91cf-ce55-4087-9b98-00bdcf70508f",
   "metadata": {},
   "outputs": [
    {
     "data": {
      "text/plain": [
       "'Billboard Hot 100™'"
      ]
     },
     "execution_count": 11,
     "metadata": {},
     "output_type": "execute_result"
    }
   ],
   "source": [
    "title = soup.title.string\n",
    "title"
   ]
  },
  {
   "cell_type": "code",
   "execution_count": 13,
   "id": "b17844be-94f1-46a1-8259-f4edb4ba4305",
   "metadata": {},
   "outputs": [
    {
     "data": {
      "text/plain": [
       "<p class=\"c-tagline a-font-primary-s lrv-u-padding-b-1\">THE WEEK’S MOST POPULAR CURRENT SONGS ACROSS ALL GENRES, RANKED BY STREAMING ACTIVITY FROM DIGITAL MUSIC SOURCES TRACKED BY LUMINATE, RADIO AIRPLAY AUDIENCE IMPRESSIONS AS MEASURED BY LUMINATE AND SALES DATA AS COMPILED BY LUMINATE.</p>"
      ]
     },
     "execution_count": 13,
     "metadata": {},
     "output_type": "execute_result"
    }
   ],
   "source": [
    "soup.p"
   ]
  },
  {
   "cell_type": "code",
   "execution_count": 15,
   "id": "824e6ec1-755d-48d2-ac01-b4a9dbdad744",
   "metadata": {},
   "outputs": [
    {
     "data": {
      "text/plain": [
       "['c-tagline', 'a-font-primary-s', 'lrv-u-padding-b-1']"
      ]
     },
     "execution_count": 15,
     "metadata": {},
     "output_type": "execute_result"
    }
   ],
   "source": [
    "soup.p['class']"
   ]
  },
  {
   "cell_type": "code",
   "execution_count": null,
   "id": "f4a0ec96-86ee-43da-9a29-89309ee4ec66",
   "metadata": {},
   "outputs": [],
   "source": [
    "# does not work well with links. \n",
    "soup.a"
   ]
  },
  {
   "cell_type": "code",
   "execution_count": null,
   "id": "452eff0d-ea55-4c35-9167-a4ed5fff36d7",
   "metadata": {},
   "outputs": [],
   "source": [
    "# soup.find_all(\"a\")"
   ]
  },
  {
   "cell_type": "code",
   "execution_count": 17,
   "id": "a68f1e20-b969-4bd1-aec8-6241d0d75c9f",
   "metadata": {},
   "outputs": [],
   "source": [
    "# Store Data \n",
    "this_week = []\n",
    "songs = []\n",
    "artist = []\n",
    "last_week = []"
   ]
  },
  {
   "cell_type": "code",
   "execution_count": 21,
   "id": "e53a7ca8-2f4e-46a7-8154-15bf72b0a82c",
   "metadata": {},
   "outputs": [],
   "source": [
    "for element in soup.find_all(attrs = {'class':'o-chart-results-list-row-container'}):\n",
    "    this_week.append(element.find('span', class_='c-label').get_text(strip=True))\n",
    "    songs.append(element.h3.get_text(strip=True))\n",
    "    artist.append(element.h3.find_next('span').get_text(strip=True))\n",
    "#I was not able to create a last_week information. It gave me always the same output as this_week. "
   ]
  },
  {
   "cell_type": "code",
   "execution_count": 27,
   "id": "dab598c1-03ea-4b0a-b534-f7ddb14864fd",
   "metadata": {},
   "outputs": [],
   "source": [
    "dict = {\"this_week\": this_week, \n",
    "        \"song\": songs,  \n",
    "        \"artist\": artist,\n",
    "       }"
   ]
  },
  {
   "cell_type": "code",
   "execution_count": 29,
   "id": "9994e9bb-e774-4d96-81f9-8798c274e562",
   "metadata": {},
   "outputs": [
    {
     "data": {
      "text/html": [
       "<div>\n",
       "<style scoped>\n",
       "    .dataframe tbody tr th:only-of-type {\n",
       "        vertical-align: middle;\n",
       "    }\n",
       "\n",
       "    .dataframe tbody tr th {\n",
       "        vertical-align: top;\n",
       "    }\n",
       "\n",
       "    .dataframe thead th {\n",
       "        text-align: right;\n",
       "    }\n",
       "</style>\n",
       "<table border=\"1\" class=\"dataframe\">\n",
       "  <thead>\n",
       "    <tr style=\"text-align: right;\">\n",
       "      <th></th>\n",
       "      <th>this_week</th>\n",
       "      <th>song</th>\n",
       "      <th>artist</th>\n",
       "    </tr>\n",
       "  </thead>\n",
       "  <tbody>\n",
       "    <tr>\n",
       "      <th>0</th>\n",
       "      <td>1</td>\n",
       "      <td>A Bar Song (Tipsy)</td>\n",
       "      <td>Shaboozey</td>\n",
       "    </tr>\n",
       "    <tr>\n",
       "      <th>1</th>\n",
       "      <td>1</td>\n",
       "      <td>A Bar Song (Tipsy)</td>\n",
       "      <td>Shaboozey</td>\n",
       "    </tr>\n",
       "    <tr>\n",
       "      <th>2</th>\n",
       "      <td>2</td>\n",
       "      <td>I Had Some Help</td>\n",
       "      <td>Post Malone Featuring Morgan Wallen</td>\n",
       "    </tr>\n",
       "    <tr>\n",
       "      <th>3</th>\n",
       "      <td>3</td>\n",
       "      <td>Espresso</td>\n",
       "      <td>Sabrina Carpenter</td>\n",
       "    </tr>\n",
       "    <tr>\n",
       "      <th>4</th>\n",
       "      <td>4</td>\n",
       "      <td>Good Luck, Babe!</td>\n",
       "      <td>Chappell Roan</td>\n",
       "    </tr>\n",
       "    <tr>\n",
       "      <th>...</th>\n",
       "      <td>...</td>\n",
       "      <td>...</td>\n",
       "      <td>...</td>\n",
       "    </tr>\n",
       "    <tr>\n",
       "      <th>96</th>\n",
       "      <td>96</td>\n",
       "      <td>U My Everything</td>\n",
       "      <td>Sexyy Red &amp; Drake</td>\n",
       "    </tr>\n",
       "    <tr>\n",
       "      <th>97</th>\n",
       "      <td>97</td>\n",
       "      <td>My Kink Is Karma</td>\n",
       "      <td>Chappell Roan</td>\n",
       "    </tr>\n",
       "    <tr>\n",
       "      <th>98</th>\n",
       "      <td>98</td>\n",
       "      <td>Nasty</td>\n",
       "      <td>Tinashe</td>\n",
       "    </tr>\n",
       "    <tr>\n",
       "      <th>99</th>\n",
       "      <td>99</td>\n",
       "      <td>Parking Lot</td>\n",
       "      <td>Mustard &amp; Travis Scott</td>\n",
       "    </tr>\n",
       "    <tr>\n",
       "      <th>100</th>\n",
       "      <td>100</td>\n",
       "      <td>Worst Way</td>\n",
       "      <td>Riley Green</td>\n",
       "    </tr>\n",
       "  </tbody>\n",
       "</table>\n",
       "<p>101 rows × 3 columns</p>\n",
       "</div>"
      ],
      "text/plain": [
       "    this_week                song                               artist\n",
       "0           1  A Bar Song (Tipsy)                            Shaboozey\n",
       "1           1  A Bar Song (Tipsy)                            Shaboozey\n",
       "2           2     I Had Some Help  Post Malone Featuring Morgan Wallen\n",
       "3           3            Espresso                    Sabrina Carpenter\n",
       "4           4    Good Luck, Babe!                        Chappell Roan\n",
       "..        ...                 ...                                  ...\n",
       "96         96     U My Everything                    Sexyy Red & Drake\n",
       "97         97    My Kink Is Karma                        Chappell Roan\n",
       "98         98               Nasty                              Tinashe\n",
       "99         99         Parking Lot               Mustard & Travis Scott\n",
       "100       100           Worst Way                          Riley Green\n",
       "\n",
       "[101 rows x 3 columns]"
      ]
     },
     "execution_count": 29,
     "metadata": {},
     "output_type": "execute_result"
    }
   ],
   "source": [
    "# It gives me the same song twice. \n",
    "df = pd.DataFrame(dict)\n",
    "df"
   ]
  }
 ],
 "metadata": {
  "kernelspec": {
   "display_name": "Python 3 (ipykernel)",
   "language": "python",
   "name": "python3"
  },
  "language_info": {
   "codemirror_mode": {
    "name": "ipython",
    "version": 3
   },
   "file_extension": ".py",
   "mimetype": "text/x-python",
   "name": "python",
   "nbconvert_exporter": "python",
   "pygments_lexer": "ipython3",
   "version": "3.12.4"
  }
 },
 "nbformat": 4,
 "nbformat_minor": 5
}
